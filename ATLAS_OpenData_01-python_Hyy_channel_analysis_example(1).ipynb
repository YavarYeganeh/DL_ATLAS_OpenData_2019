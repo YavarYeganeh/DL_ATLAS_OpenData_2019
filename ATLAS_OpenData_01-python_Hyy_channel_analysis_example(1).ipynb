{
 "cells": [
  {
   "cell_type": "markdown",
   "metadata": {},
   "source": [
    "<CENTER><img src=\"http://opendata.atlas.cern/DataAndTools/pictures/ATLASOD.gif\" style=\"width:50%\"></CENTER>"
   ]
  },
  {
   "cell_type": "markdown",
   "metadata": {},
   "source": [
    "<CENTER><h1>Searching for the Higgs boson in the H&#8594;&gamma;&gamma; channel</h1></CENTER>\n",
    "## Python notebook example"
   ]
  },
  {
   "cell_type": "markdown",
   "metadata": {},
   "source": [
    "**Introduction**\n",
    "Let's take a current ATLAS Open Data sample and create a histogram:"
   ]
  },
  {
   "cell_type": "code",
   "execution_count": 1,
   "metadata": {
    "collapsed": false
   },
   "outputs": [
    {
     "data": {
      "application/javascript": [
       "require(['codemirror/mode/clike/clike'], function(Clike) { console.log('ROOTaaS - C++ CodeMirror module loaded'); });"
      ]
     },
     "metadata": {},
     "output_type": "display_data"
    },
    {
     "data": {
      "application/javascript": [
       "IPython.CodeCell.config_defaults.highlight_modes['magic_text/x-c++src'] = {'reg':[/^%%cpp/]};"
      ]
     },
     "metadata": {},
     "output_type": "display_data"
    },
    {
     "name": "stdout",
     "output_type": "stream",
     "text": [
      "Welcome to ROOTaaS 6.06/08\n"
     ]
    }
   ],
   "source": [
    "# We added all data sets\n",
    "# This Code Must be modified for a faster ploting!\n",
    "# Thaks to Mohammad and Arturo (& Leo + Clement!)\n",
    "import ROOT\n",
    "from ROOT import TMath, TChain\n",
    "import time"
   ]
  },
  {
   "cell_type": "code",
   "execution_count": 2,
   "metadata": {
    "collapsed": false
   },
   "outputs": [],
   "source": [
    "start = time.time()"
   ]
  },
  {
   "cell_type": "markdown",
   "metadata": {},
   "source": [
    "Because we would like to use more than one ROOT input file, the best option is to use a TChain object. This allows to \"chain\" several samples into a single structure that we can later loop over"
   ]
  },
  {
   "cell_type": "code",
   "execution_count": 3,
   "metadata": {
    "collapsed": false,
    "scrolled": true
   },
   "outputs": [],
   "source": [
    "#f = ROOT.TFile.Open(\"http://opendata.atlas.cern/release/samples/2019/GamGam/Data/dataB_yy.root\")\n",
    "    #(\"Data/dataA_yy.root\")\n",
    "    #(\"Data/dataB_yy.root\")\n",
    "    #(\"Data/dataC_yy.root\")\n",
    "    #(\"Data/dataD_yy.root\")\n",
    "chain = TChain(\"mini\")    \n",
    "chain.Add(\"http://opendata.atlas.cern/release/samples/2019/GamGam/Data/dataA_yy.root\")\n",
    "chain.Add(\"http://opendata.atlas.cern/release/samples/2019/GamGam/Data/dataB_yy.root\")\n",
    "chain.Add(\"http://opendata.atlas.cern/release/samples/2019/GamGam/Data/dataC_yy.root\")\n",
    "chain.Add(\"http://opendata.atlas.cern/release/samples/2019/GamGam/Data/dataD_yy.root\")\n",
    "\n",
    "chain.SetBranchStatus(\"*\",0)\n",
    "chain.SetBranchStatus(\"photon_pt\",1)\n",
    "chain.SetBranchStatus(\"photon_eta\",1)\n",
    "chain.SetBranchStatus(\"photon_ptcone30\",1)\n",
    "chain.SetBranchStatus(\"photon_etcone20\",1)\n",
    "chain.SetBranchStatus(\"photon_phi\",1)\n",
    "chain.SetBranchStatus(\"photon_E\",1)\n",
    "chain.SetBranchStatus(\"trigP\",1)\n",
    "chain.SetBranchStatus(\"photon_n\",1)\n",
    "chain.SetBranchStatus(\"photon_isTightID\",1)\n",
    "\n"
   ]
  },
  {
   "cell_type": "code",
   "execution_count": null,
   "metadata": {
    "collapsed": false
   },
   "outputs": [],
   "source": []
  },
  {
   "cell_type": "code",
   "execution_count": 4,
   "metadata": {
    "collapsed": false
   },
   "outputs": [],
   "source": [
    "#tree = f.Get(\"mini\")"
   ]
  },
  {
   "cell_type": "markdown",
   "metadata": {},
   "source": [
    "Now we're going to extract the photons variables"
   ]
  },
  {
   "cell_type": "code",
   "execution_count": 5,
   "metadata": {
    "collapsed": false
   },
   "outputs": [],
   "source": [
    "#Invariant mass histograms definition\n",
    "hist = ROOT.TH1F(\"h_M_Hyy\",\"Invariant Mass of di-photon system ; Invariant Mass m_{yy} [GeV] ; events\",50,80,280)"
   ]
  },
  {
   "cell_type": "markdown",
   "metadata": {},
   "source": [
    "Here we're filling the variables defined above with the content of those inside the input ntuples"
   ]
  },
  {
   "cell_type": "markdown",
   "metadata": {},
   "source": [
    "We're creating a histogram for this example. The plan in to fill them with events."
   ]
  },
  {
   "cell_type": "markdown",
   "metadata": {},
   "source": [
    "We are selecting below a simple look for them."
   ]
  },
  {
   "cell_type": "markdown",
   "metadata": {},
   "source": [
    "The Higgs boson analysis implemented here considers Higgs boson decays into a proton-proton pair. The event selection criteria are:"
   ]
  },
  {
   "cell_type": "code",
   "execution_count": 6,
   "metadata": {
    "collapsed": false,
    "scrolled": true
   },
   "outputs": [
    {
     "name": "stdout",
     "output_type": "stream",
     "text": [
      "1000\n"
     ]
    },
    {
     "ename": "RuntimeError",
     "evalue": "TTree I/O error",
     "output_type": "error",
     "traceback": [
      "\u001b[0;31m\u001b[0m",
      "\u001b[0;31mRuntimeError\u001b[0mTraceback (most recent call last)",
      "\u001b[0;32m<ipython-input-6-b1a86c61c94c>\u001b[0m in \u001b[0;36m<module>\u001b[0;34m()\u001b[0m\n\u001b[1;32m      2\u001b[0m \u001b[0mPhoton_2\u001b[0m \u001b[0;34m=\u001b[0m \u001b[0mROOT\u001b[0m\u001b[0;34m.\u001b[0m\u001b[0mTLorentzVector\u001b[0m\u001b[0;34m(\u001b[0m\u001b[0;34m)\u001b[0m\u001b[0;34m\u001b[0m\u001b[0m\n\u001b[1;32m      3\u001b[0m \u001b[0mn\u001b[0m \u001b[0;34m=\u001b[0m \u001b[0;36m0\u001b[0m\u001b[0;34m\u001b[0m\u001b[0m\n\u001b[0;32m----> 4\u001b[0;31m \u001b[0;32mfor\u001b[0m \u001b[0mevent\u001b[0m \u001b[0;32min\u001b[0m \u001b[0mchain\u001b[0m\u001b[0;34m:\u001b[0m\u001b[0;34m\u001b[0m\u001b[0m\n\u001b[0m\u001b[1;32m      5\u001b[0m     \u001b[0mn\u001b[0m \u001b[0;34m+=\u001b[0m \u001b[0;36m1\u001b[0m\u001b[0;34m\u001b[0m\u001b[0m\n\u001b[1;32m      6\u001b[0m     \u001b[0;31m## printing the evolution in number of events\u001b[0m\u001b[0;34m\u001b[0m\u001b[0;34m\u001b[0m\u001b[0m\n",
      "\u001b[0;32m/home/student/Root/root/lib/ROOT.pyc\u001b[0m in \u001b[0;36m_TTree__iter__\u001b[0;34m(self)\u001b[0m\n\u001b[1;32m    221\u001b[0m \u001b[0;34m\u001b[0m\u001b[0m\n\u001b[1;32m    222\u001b[0m    \u001b[0;32mif\u001b[0m \u001b[0mbytes_read\u001b[0m \u001b[0;34m==\u001b[0m \u001b[0;34m-\u001b[0m\u001b[0;36m1\u001b[0m\u001b[0;34m:\u001b[0m\u001b[0;34m\u001b[0m\u001b[0m\n\u001b[0;32m--> 223\u001b[0;31m       \u001b[0;32mraise\u001b[0m \u001b[0mRuntimeError\u001b[0m\u001b[0;34m(\u001b[0m \u001b[0;34m\"TTree I/O error\"\u001b[0m \u001b[0;34m)\u001b[0m\u001b[0;34m\u001b[0m\u001b[0m\n\u001b[0m\u001b[1;32m    224\u001b[0m \u001b[0;34m\u001b[0m\u001b[0m\n\u001b[1;32m    225\u001b[0m \u001b[0m_root\u001b[0m\u001b[0;34m.\u001b[0m\u001b[0mCreateScopeProxy\u001b[0m\u001b[0;34m(\u001b[0m \u001b[0;34m\"TTree\"\u001b[0m \u001b[0;34m)\u001b[0m\u001b[0;34m.\u001b[0m\u001b[0m__iter__\u001b[0m    \u001b[0;34m=\u001b[0m \u001b[0m_TTree__iter__\u001b[0m\u001b[0;34m\u001b[0m\u001b[0m\n",
      "\u001b[0;31mRuntimeError\u001b[0m: TTree I/O error"
     ]
    },
    {
     "name": "stderr",
     "output_type": "stream",
     "text": [
      "Error in <TWebFile::GetFromWeb10>: expected -2975568 bytes, got 0\r\n",
      "Error in <TBranchElement::GetBasket>: File: http://opendata.atlas.cern/release/samples/2019/GamGam/Data/dataA_yy.root at byte:222, branch:photon_ptcone30, entry:1226, badread=1, nerrors=1, basketnumber=1\r\n"
     ]
    }
   ],
   "source": [
    "Photon_1 = ROOT.TLorentzVector()\n",
    "Photon_2 = ROOT.TLorentzVector()\n",
    "n = 0\n",
    "for event in chain:\n",
    "    n += 1\n",
    "    ## printing the evolution in number of events\n",
    "    if(n%1000==0):\n",
    "        print(n)\n",
    "    ## checking the trigger    \n",
    "    if(chain.trigP):\n",
    "        goodphoton_index = [0]*5\n",
    "        goodphoton_n = 0\n",
    "        photon_index = 0\n",
    "        ##            \n",
    "        j=0\n",
    "        ## looping the photons per event\n",
    "        ## 25000 changed to 40000\n",
    "        for j in range(chain.photon_n):\n",
    "            ##\n",
    "            if(chain.photon_isTightID[j]):\n",
    "                ##\n",
    "                if(chain.photon_pt[j] > 25000 and (TMath.Abs(chain.photon_eta[j]) < 2.37)\\\n",
    "                   and (TMath.Abs(chain.photon_eta[j]) < 1.37 or TMath.Abs(chain.photon_eta[j]) > 1.52)):\n",
    "                    ##\n",
    "                    goodphoton_n += 1  #count\n",
    "                    goodphoton_index[photon_index]=j\n",
    "                    photon_index += 1\n",
    "                ## end Pt and eta pre-selection\n",
    "            ## end on request of quality of the photon\n",
    "        ## end looping photons in the current event\n",
    "            \n",
    "        ## Using the two selected photons\n",
    "        if(goodphoton_n==2):\n",
    "            ##\n",
    "            goodphoton1_index = goodphoton_index[0]\n",
    "            goodphoton2_index = goodphoton_index[1]\n",
    "            ## Getting couple of photons with good isolation \n",
    "            if((chain.photon_ptcone30[goodphoton1_index]/chain.photon_pt[goodphoton1_index] < 0.065)\\\n",
    "               and (chain.photon_etcone20[goodphoton1_index] / chain.photon_pt[goodphoton1_index] < 0.065)):\n",
    "                ##\n",
    "                if((chain.photon_ptcone30[goodphoton2_index]/chain.photon_pt[goodphoton2_index] < 0.065)\\\n",
    "                   and (chain.photon_etcone20[goodphoton2_index] / chain.photon_pt[goodphoton2_index] < 0.065)):\n",
    "                    ##\n",
    "                    Photon_1.SetPtEtaPhiE(chain.photon_pt[goodphoton1_index]/1000., chain.photon_eta[goodphoton1_index],\\\n",
    "                                          chain.photon_phi[goodphoton1_index],chain.photon_E[goodphoton1_index]/1000.)\n",
    "                    Photon_2.SetPtEtaPhiE(chain.photon_pt[goodphoton2_index]/1000., chain.photon_eta[goodphoton2_index],\\\n",
    "                                          chain.photon_phi[goodphoton2_index],chain.photon_E[goodphoton2_index]/1000.)\n",
    "                    ## Adding the two TLorentz vectors\n",
    "                    Photon_12 = Photon_1 + Photon_2\n",
    "                    ## Filling with the mass of the gamma-gamma system\n",
    "                    hist.Fill(Photon_12.M())\n",
    "                ## end isolation photon #2\n",
    "            ## end isolation photon #1\n",
    "        ## end 2-good photons\n",
    "    ## end of trigger request\n",
    "## End loop in the events"
   ]
  },
  {
   "cell_type": "markdown",
   "metadata": {},
   "source": [
    "#### Final plot"
   ]
  },
  {
   "cell_type": "code",
   "execution_count": null,
   "metadata": {
    "collapsed": false
   },
   "outputs": [],
   "source": [
    "canvas = ROOT.TCanvas(\"Canvas\",\"cz\",1000,1000)\n",
    "hist.Draw()\n",
    "canvas.Draw()"
   ]
  },
  {
   "cell_type": "markdown",
   "metadata": {},
   "source": [
    "#### Log Scale"
   ]
  },
  {
   "cell_type": "code",
   "execution_count": null,
   "metadata": {
    "collapsed": false
   },
   "outputs": [],
   "source": [
    "hist.Draw(\"E\")\n",
    "hist.SetMinimum(10)\n",
    "canvas.SetLogy()\n",
    "canvas.Draw()"
   ]
  },
  {
   "cell_type": "code",
   "execution_count": null,
   "metadata": {
    "collapsed": false
   },
   "outputs": [],
   "source": [
    "end = time.time()\n",
    "duration = end-start\n",
    "print(\"Finished in {} min {} s\").format(int(duration//60),int(duration%60))"
   ]
  }
 ],
 "metadata": {
  "kernelspec": {
   "display_name": "Python 2",
   "language": "python",
   "name": "python2"
  },
  "language_info": {
   "codemirror_mode": {
    "name": "ipython",
    "version": 2
   },
   "file_extension": ".py",
   "mimetype": "text/x-python",
   "name": "python",
   "nbconvert_exporter": "python",
   "pygments_lexer": "ipython2",
   "version": "2.7.9"
  }
 },
 "nbformat": 4,
 "nbformat_minor": 1
}
